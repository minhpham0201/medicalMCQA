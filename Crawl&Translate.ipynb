{
 "cells": [
  {
   "cell_type": "code",
   "execution_count": 1,
   "metadata": {},
   "outputs": [],
   "source": [
    "# IMPORT LIBRARIES\n",
    "from bs4 import BeautifulSoup\n",
    "from pyodbc import connect\n",
    "import re\n",
    "from deep_translator import GoogleTranslator\n",
    "from random import randint"
   ]
  },
  {
   "cell_type": "code",
   "execution_count": 1,
   "metadata": {},
   "outputs": [],
   "source": [
    "# FUNC translate_text\n",
    "def translate_text(text):\n",
    "    translator = GoogleTranslator(source='vi', target='en')\n",
    "    try:\n",
    "        return translator.translate(text)\n",
    "    except Exception as e:\n",
    "        return \"Error: \" + str(e)"
   ]
  },
  {
   "cell_type": "code",
   "execution_count": 2,
   "metadata": {},
   "outputs": [],
   "source": [
    "# FUNC fetchAll, saveMany of SQL\n",
    "def fetchAll(sql, parameters = None):\n",
    "    db = connect('Driver={SQL Server};Server=.;Database=Hospital;UID;PWD')\n",
    "    try:\n",
    "        cursor = db.cursor()\n",
    "        if parameters:\n",
    "            cursor.execute(sql, parameters)\n",
    "        else:\n",
    "            cursor.execute(sql)\n",
    "        return cursor.fetchall()\n",
    "    except Exception as ex:\n",
    "        print(ex)\n",
    "        return False\n",
    "    finally:\n",
    "        cursor.close()\n",
    "        db.close()\n",
    "def saveMany(sql, arr):\n",
    "    db = connect('Driver={SQL Server};Server=.;Database=Hospital;UID;PWD')\n",
    "    try:\n",
    "        cursor = db.cursor()\n",
    "        cursor.executemany(sql, arr)\n",
    "        ret = cursor.rowcount\n",
    "        db.commit()\n",
    "        return True\n",
    "    except Exception as ex:\n",
    "        print(ex)\n",
    "        return False\n",
    "    finally:\n",
    "        cursor.close()\n",
    "        db.close()"
   ]
  },
  {
   "cell_type": "code",
   "execution_count": 4,
   "metadata": {},
   "outputs": [],
   "source": [
    "# FUNC append_dot\n",
    "def append_dot(text):\n",
    "    if re.search(\"[A-Za-z\\s\\u00C0-\\u1EF9\\d]+$\", text):\n",
    "        return text + '.'\n",
    "    return text"
   ]
  },
  {
   "cell_type": "code",
   "execution_count": 6,
   "metadata": {},
   "outputs": [],
   "source": [
    "# FUNC getIntroductions\n",
    "def getIntrodutions(art):\n",
    "    data = []\n",
    "    with open(f'./data/{art[2]}.html') as f:\n",
    "        soup = BeautifulSoup(f.readline(), 'html.parser')\n",
    "        p = soup.select_one('p')\n",
    "        try:\n",
    "            while p.name == 'p' or p.name == None:\n",
    "                text = p.text.strip()\n",
    "                if text:\n",
    "                    data.append((art[0], append_dot(text)))\n",
    "                p = p.next\n",
    "            return data\n",
    "        except:\n",
    "            print(art[2], p, data)"
   ]
  },
  {
   "cell_type": "code",
   "execution_count": 7,
   "metadata": {},
   "outputs": [],
   "source": [
    "# Clear sql Paragraph, Item\n",
    "def clearItems():\n",
    "    try:\n",
    "        db = connect('Driver={SQL Server};Server=.;Database=Hospital;UID=sa;PWD=123')\n",
    "        cursor = db.cursor()\n",
    "        sql = 'TRUNCATE TABLE Paragraph;TRUNCATE TABLE Item;'\n",
    "        cursor.execute(sql)\n",
    "        ret = cursor.rowcount\n",
    "        db.commit()\n",
    "        return True\n",
    "    except Exception as ex:\n",
    "        print(ex)\n",
    "        return False\n",
    "    finally:\n",
    "        cursor.close()\n",
    "        db.close()\n",
    "clearItems()"
   ]
  },
  {
   "cell_type": "code",
   "execution_count": null,
   "metadata": {},
   "outputs": [],
   "source": [
    "# Clear INTRODUCTION\n",
    "def clearItems():\n",
    "    try:\n",
    "        db = connect('Driver={SQL Server};Server=.;Database=Hospital;UID=sa;PWD=123')\n",
    "        cursor = db.cursor()\n",
    "        sql = 'TRUNCATE TABLE Introduction;'\n",
    "        cursor.execute(sql)\n",
    "        ret = cursor.rowcount\n",
    "        db.commit()\n",
    "        return True\n",
    "    except Exception as ex:\n",
    "        print(ex)\n",
    "        return False\n",
    "    finally:\n",
    "        cursor.close()\n",
    "        db.close()\n",
    "clearItems()"
   ]
  },
  {
   "cell_type": "code",
   "execution_count": null,
   "metadata": {},
   "outputs": [],
   "source": [
    "# Get Introductions(articles) => data += getIntrodutions(art)\n",
    "data = []\n",
    "for art in fetchAll('SELECT * FROM Article'):\n",
    "    data += getIntrodutions(art)\n",
    "len(data)"
   ]
  },
  {
   "cell_type": "code",
   "execution_count": null,
   "metadata": {},
   "outputs": [],
   "source": [
    "# INSERT data INTO Introduction(ArticleId, Content)\n",
    "sql = 'INSERT INTO Introduction(ArticleId, Content) VALUES (?, ?)'\n",
    "saveMany(sql, data)"
   ]
  },
  {
   "cell_type": "code",
   "execution_count": null,
   "metadata": {},
   "outputs": [],
   "source": [
    "# FUNC getItemsAndParagraphs, extract_list\n",
    "def extract_list(p): \n",
    "    arr = []\n",
    "    for li in p.select('li'):\n",
    "        text = li.text.strip()\n",
    "        if(text):\n",
    "            arr.append(append_dot(text))\n",
    "    return ' '.join(arr)\n",
    "def getItemsAndParagraphs(atr):\n",
    "    items = []\n",
    "    paragraphs = []\n",
    "    with open(f'./data/{atr[2]}.html') as response:\n",
    "        soup = BeautifulSoup(response, 'html.parser')\n",
    "        for h2 in soup.select('div[id=\"ftwp-postcontent\"] h2'):\n",
    "            id = randint(0, 1073741824)\n",
    "            items.append((atr[0], id, append_dot(h2.text.strip())))\n",
    "            p = h2.next_sibling\n",
    "            try:\n",
    "                while p != None and (p.name in ('div', 'h3', 'h4', 'p', 'ul', 'ol', 'figure', 'blockquote') or p.name == None):\n",
    "                    \n",
    "                    if p.name in ('ul', 'ol'):\n",
    "                        paragraphs.append((id, extract_list(p)))\n",
    "                    else:\n",
    "                        content = p.text.strip()\n",
    "                        if content and len(content) > 3:\n",
    "                            paragraphs.append((id, append_dot(content)))\n",
    "                    p = p.next_sibling\n",
    "            except Exception as ex:\n",
    "                print(ex)\n",
    "                print(atr[2], h2, p)\n",
    "    return items, paragraphs"
   ]
  },
  {
   "cell_type": "code",
   "execution_count": null,
   "metadata": {},
   "outputs": [],
   "source": [
    "# getItemsAndParagraphs\n",
    "data_items = []\n",
    "data_paragraphs = []\n",
    "for art in fetchAll('SELECT * FROM Article'):\n",
    "    items, paragraphs = getItemsAndParagraphs(art)\n",
    "    data_items += items\n",
    "    data_paragraphs += paragraphs\n",
    "len(data_paragraphs)"
   ]
  },
  {
   "cell_type": "code",
   "execution_count": null,
   "metadata": {},
   "outputs": [],
   "source": [
    "# Insert data into sql\n",
    "sql = 'INSERT INTO Item (ArticleId, ItemId, ItemName) VALUES (?, ?, ?)'\n",
    "saveMany(sql, data_items)\n",
    "sql = 'INSERT INTO Paragraph (ItemId, Content) VALUES (?, ?)'\n",
    "saveMany(sql, data_paragraphs)"
   ]
  },
  {
   "cell_type": "code",
   "execution_count": null,
   "metadata": {},
   "outputs": [],
   "source": [
    "# FUNC Translate Introduction, save_batch\n",
    "def batch(page, size = 1000):\n",
    "    introduction = fetchAll('SELECT ArticleId, Content FROM Introduction ORDER BY IntroductionID OFFSET ? ROWS FETCH NEXT ? ROWS ONLY;', ((page-1)*size, size))\n",
    "    translations = [translate_text(row[1]) for row in introduction]\n",
    "    return introduction, translations\n",
    "def save_batch(introduction, translations):\n",
    "    trans = []\n",
    "    for row, tran in zip(introduction, translations):\n",
    "        trans.append((tran, row[0]))\n",
    "    return saveMany('UPDATE Introduction SET ContentEn = ? WHERE ArticleId = ?', trans)"
   ]
  },
  {
   "cell_type": "code",
   "execution_count": null,
   "metadata": {},
   "outputs": [],
   "source": [
    "# INSERT TRANSLATIONS INTO SQL DATA\n",
    "for page in range (6):\n",
    "    introduction, translations = batch(page,size = 1000)\n",
    "    save_batch(introduction,translations)"
   ]
  },
  {
   "cell_type": "code",
   "execution_count": null,
   "metadata": {},
   "outputs": [],
   "source": [
    "# English\n",
    "sql = '''\n",
    "SELECT Url, FieldName, ArticleName, STRING_AGG(ContentEn, ' ') AS Corpus \n",
    "FROM Introduction JOIN Article ON Introduction.ArticleId = Article.ArticleId\n",
    "JOIN Field ON Field.FieldId = Article.FieldId\n",
    "GROUP BY Introduction.ArticleId, ArticleName, Url, FieldName\n",
    "UNION ALL\n",
    "SELECT Url, FieldName, ItemName, STRING_AGG(ContentEn, ' ') AS Corpus FROM Paragraph\n",
    "JOIN Item ON Paragraph.ItemId = Item.ItemId\n",
    "JOIN Article ON Item.ArticleId = Article.ArticleId\n",
    "JOIN Field ON Article.FieldId = Field.FieldId\n",
    "GROUP BY Item.ArticleId, Url, Paragraph.ItemId, ItemName, FieldName ORDER BY Url;'''\n",
    "data = fetchAll(sql)"
   ]
  }
 ],
 "metadata": {
  "kernelspec": {
   "display_name": "base",
   "language": "python",
   "name": "python3"
  },
  "language_info": {
   "codemirror_mode": {
    "name": "ipython",
    "version": 3
   },
   "file_extension": ".py",
   "mimetype": "text/x-python",
   "name": "python",
   "nbconvert_exporter": "python",
   "pygments_lexer": "ipython3",
   "version": "3.11.5"
  }
 },
 "nbformat": 4,
 "nbformat_minor": 2
}
